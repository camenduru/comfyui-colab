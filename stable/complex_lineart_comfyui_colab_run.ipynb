{
  "cells": [
    {
      "attachments": {},
      "cell_type": "markdown",
      "metadata": {
        "id": "view-in-github"
      },
      "source": [
        "[![Open In Colab](https://colab.research.google.com/assets/colab-badge.svg)](https://colab.research.google.com/github/camenduru/comfyui-colab/blob/main/stable/complex_lineart_comfyui_colab_run.ipynb)"
      ]
    },
    {
      "cell_type": "code",
      "execution_count": null,
      "metadata": {},
      "outputs": [],
      "source": [
        "%cd /content\n",
        "import urllib, requests\n",
        "from notebook import notebookapp\n",
        "name = requests.get(f\"{list(notebookapp.list_running_servers())[0]['url']}api/sessions\").json()[0][\"name\"].replace(\"_run\", \"\")\n",
        "url = '/'.join(urllib.parse.unquote(requests.get(f\"{list(notebookapp.list_running_servers())[0]['url']}api/sessions\").json()[0][\"path\"].split(\"=\", 1)[1]).split(\"/\")).replace(\"/blob/\", \"/\").replace(\"github.com\", \"raw.githubusercontent.com\").replace(\"_run\", \"\")\n",
        "!wget {url} -O {name}\n",
        "%run {name}"
      ]
    }
  ],
  "metadata": {
    "accelerator": "GPU",
    "colab": {
      "collapsed_sections": [],
      "private_outputs": true,
      "provenance": []
    },
    "gpuClass": "standard",
    "kernelspec": {
      "display_name": "Python 3",
      "language": "python",
      "name": "python3"
    },
    "language_info": {
      "name": "python",
      "version": "3.10.8"
    }
  },
  "nbformat": 4,
  "nbformat_minor": 0
}